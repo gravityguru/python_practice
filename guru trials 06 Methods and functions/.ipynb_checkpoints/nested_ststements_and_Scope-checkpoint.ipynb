{
 "cells": [
  {
   "cell_type": "code",
   "execution_count": null,
   "metadata": {},
   "outputs": [],
   "source": [
    "# LEGB Rule\n",
    "# L = Local\n",
    "# E = Enclosed variable\n",
    "# G = Global variable\n",
    "# B = Built in variable or Function\n"
   ]
  },
  {
   "cell_type": "code",
   "execution_count": 13,
   "metadata": {},
   "outputs": [
    {
     "name": "stdout",
     "output_type": "stream",
     "text": [
      "Hello, I am a global variable\n"
     ]
    }
   ],
   "source": [
    "\n",
    "# Global Variable\n",
    "\n",
    "name = 'I am a global variable'\n",
    "def greet():\n",
    "    \n",
    "    # Enclosed variable\n",
    "    name = 'Guru is enclosed variable'\n",
    "    \n",
    "    def hello():\n",
    "        # Local variable\n",
    "        name = 'I am a local variable'\n",
    "        print('Hello, ' + name)\n",
    "        \n",
    "    hello()\n",
    "    \n",
    "greet()"
   ]
  },
  {
   "cell_type": "code",
   "execution_count": 14,
   "metadata": {},
   "outputs": [],
   "source": [
    "x = 50  # Globaal Definition\n",
    "\n",
    "def func():\n",
    "    print(f'X is {x}')"
   ]
  },
  {
   "cell_type": "code",
   "execution_count": 15,
   "metadata": {},
   "outputs": [
    {
     "name": "stdout",
     "output_type": "stream",
     "text": [
      "X is 50\n"
     ]
    }
   ],
   "source": [
    "func()"
   ]
  },
  {
   "cell_type": "code",
   "execution_count": 32,
   "metadata": {},
   "outputs": [],
   "source": [
    "x = 50  # Globaal Definition\n",
    "\n",
    "\n",
    "def func(x):\n",
    "\n",
    "    print(f'X is {x} before reassigning')\n",
    "    \n",
    "    x=200\n",
    "    print(f'X is {x} after reassigning locally in the func')"
   ]
  },
  {
   "cell_type": "code",
   "execution_count": 33,
   "metadata": {},
   "outputs": [
    {
     "name": "stdout",
     "output_type": "stream",
     "text": [
      "X is 50 before reassigning\n",
      "X is 200 after reassigning locally in the func\n"
     ]
    }
   ],
   "source": [
    "func(x)"
   ]
  },
  {
   "cell_type": "code",
   "execution_count": 26,
   "metadata": {},
   "outputs": [
    {
     "name": "stdout",
     "output_type": "stream",
     "text": [
      "50\n"
     ]
    }
   ],
   "source": [
    "print(x)"
   ]
  },
  {
   "cell_type": "code",
   "execution_count": 34,
   "metadata": {},
   "outputs": [],
   "source": [
    "## USE OF GLOBAL KEYWORD"
   ]
  },
  {
   "cell_type": "code",
   "execution_count": null,
   "metadata": {},
   "outputs": [],
   "source": [
    "x = 50  # Globaal Definition\n",
    "\n",
    "\n",
    "def func():\n",
    "    global x\n",
    "\n",
    "    print(f'X is {x} before reassigning')\n",
    "    \n",
    "    x='NEW Value'\n",
    "    print(f'X is {x} after reassigning locally in the func')"
   ]
  },
  {
   "cell_type": "code",
   "execution_count": null,
   "metadata": {},
   "outputs": [],
   "source": []
  },
  {
   "cell_type": "code",
   "execution_count": null,
   "metadata": {},
   "outputs": [],
   "source": []
  }
 ],
 "metadata": {
  "kernelspec": {
   "display_name": "Python 3",
   "language": "python",
   "name": "python3"
  },
  "language_info": {
   "codemirror_mode": {
    "name": "ipython",
    "version": 3
   },
   "file_extension": ".py",
   "mimetype": "text/x-python",
   "name": "python",
   "nbconvert_exporter": "python",
   "pygments_lexer": "ipython3",
   "version": "3.7.6"
  }
 },
 "nbformat": 4,
 "nbformat_minor": 4
}
